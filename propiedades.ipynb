{
  "nbformat": 4,
  "nbformat_minor": 0,
  "metadata": {
    "colab": {
      "provenance": [],
      "authorship_tag": "ABX9TyMddqiGwkE5MWcIi+UIBlJ2",
      "include_colab_link": true
    },
    "kernelspec": {
      "name": "python3",
      "display_name": "Python 3"
    },
    "language_info": {
      "name": "python"
    }
  },
  "cells": [
    {
      "cell_type": "markdown",
      "metadata": {
        "id": "view-in-github",
        "colab_type": "text"
      },
      "source": [
        "<a href=\"https://colab.research.google.com/github/andreavnessa/PropiedadesAsociativasConmutativas/blob/main/propiedades.ipynb\" target=\"_parent\"><img src=\"https://colab.research.google.com/assets/colab-badge.svg\" alt=\"Open In Colab\"/></a>"
      ]
    },
    {
      "cell_type": "code",
      "execution_count": null,
      "metadata": {
        "id": "BjA1AxULunzF"
      },
      "outputs": [],
      "source": [
        "# Propiedades conmutativa de la suma\n",
        "def conmutativaSuma(a,b):\n",
        "    return(print(f'Resultado conmutativo: {a}+{b}={b}+{a}'))\n",
        "\n",
        "#Propiedades asociativa de la Suma:\n",
        "def asociativaSum(a,b,c):\n",
        "    total = (a+b)+c\n",
        "    return(print(f'Resultado asociativa: ({a}+{b})+{c}={a}+({b}+{c}) resultado: {total }'))\n",
        "\n",
        "#Propiedades Conmutativa de la Multiplicacion:\n",
        "def conmutativaMult(a,b):\n",
        "    total = a*b\n",
        "    return(print(f'Resultado conmutativa Multiplicacion: {a}x{b}={b}x{a} resultado: {total}'))\n",
        "\n",
        "#Propiedades Asociativas de la Multiplicacion:\n",
        "def asociativaMult(a,b,c):\n",
        "    total = (a*b)*c\n",
        "    return(print(f'Resultado asociativa multiplicacion:  ({a}x{b})x{c} = {a}x({b}x{c}) | Resultasdo: {total}'))\n",
        "\n",
        "#Propiedades Distributividad de la multiplicacion:\n",
        "def distriMulti(a,b,c):\n",
        "    total = a*(b+c)\n",
        "    total1 = a*b+a*c\n",
        "    return(print(f'Distributividad multiplicacion: '\n",
        "                 f'{a}x({b}+{c})={a}x{b}+{a}x{c} | Resultado: {total} {total1}'))\n",
        "\n",
        "a=2\n",
        "b=3\n",
        "c=4\n",
        "sum = distriMulti(a,b,c)\n"
      ]
    }
  ]
}